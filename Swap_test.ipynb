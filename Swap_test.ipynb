{
  "nbformat": 4,
  "nbformat_minor": 0,
  "metadata": {
    "colab": {
      "name": "Swap_test.ipynb",
      "provenance": [],
      "include_colab_link": true
    },
    "kernelspec": {
      "name": "python3",
      "display_name": "Python 3"
    }
  },
  "cells": [
    {
      "cell_type": "markdown",
      "metadata": {
        "id": "view-in-github",
        "colab_type": "text"
      },
      "source": [
        "<a href=\"https://colab.research.google.com/github/arintaauza/Qiskit/blob/main/Swap_test.ipynb\" target=\"_parent\"><img src=\"https://colab.research.google.com/assets/colab-badge.svg\" alt=\"Open In Colab\"/></a>"
      ]
    },
    {
      "cell_type": "code",
      "metadata": {
        "id": "TH_QDdxo4vM7"
      },
      "source": [
        "#!pip install -q qiskit"
      ],
      "execution_count": null,
      "outputs": []
    },
    {
      "cell_type": "code",
      "metadata": {
        "id": "FB5gyuaf4xqz"
      },
      "source": [
        "import numpy as np\n",
        "import qiskit as qk\n",
        "import math\n",
        "from random import *"
      ],
      "execution_count": null,
      "outputs": []
    },
    {
      "cell_type": "code",
      "metadata": {
        "id": "HubkUweH4zhU",
        "outputId": "25941d88-e0c4-41d3-8f90-1bdb4ae72884",
        "colab": {
          "base_uri": "https://localhost:8080/",
          "height": 88
        }
      },
      "source": [
        "\n",
        "q = qk.QuantumRegister(3)\n",
        "c= qk.ClassicalRegister(3)\n",
        "\n",
        "\n",
        "circuit = qk.QuantumCircuit(q,c)\n",
        "#circuit = qk.QuantumCircuit(q)\n",
        "\n",
        "\n",
        "\n",
        "#initialize\n",
        "v1 = random()\n",
        "v2 = math.sqrt(1- v1*v1)\n",
        "\n",
        "print(v1)\n",
        "print(v2)\n",
        "\n",
        "w1 = random()\n",
        "w2 = math.sqrt(1- w1*w1)\n",
        "\n",
        "\n",
        "print(w1)\n",
        "print(w2)\n",
        "\n",
        "#circuit.initialize([1,0],q[0])\n",
        "circuit.initialize([v1,v2],q[1])\n",
        "circuit.initialize([w1,w2],q[2])\n",
        "\n",
        "\n",
        "# Simulating the circuit using the simulator to get the result\n",
        "simulator = qk.Aer.get_backend('qasm_simulator')\n",
        "statesim = qk.BasicAer.get_backend('statevector_simulator')\n",
        "unisim = qk.Aer.get_backend('unitary_simulator')\n"
      ],
      "execution_count": null,
      "outputs": [
        {
          "output_type": "stream",
          "text": [
            "0.719402520668405\n",
            "0.6945934157879305\n",
            "0.21733864789135693\n",
            "0.9760962617143644\n"
          ],
          "name": "stdout"
        }
      ]
    },
    {
      "cell_type": "code",
      "metadata": {
        "id": "nDoDw1wC8V_3",
        "outputId": "e2c3f749-1321-4d56-9d8b-626c0426f759",
        "colab": {
          "base_uri": "https://localhost:8080/",
          "height": 248
        }
      },
      "source": [
        "circuit.h(q[0])\n",
        "\n",
        "\n",
        "circuit.cswap(q[0],q[1],q[2])\n",
        "\n",
        "# CNOT Gate on the first and second Qubits\n",
        "print(circuit)\n",
        "\n",
        "\n"
      ],
      "execution_count": null,
      "outputs": [
        {
          "output_type": "stream",
          "text": [
            "                       ┌───┐                \n",
            "q319_0: |0>────────────┤ H ├──────────────■─\n",
            "           ┌───────────┴───┴────────────┐ │ \n",
            "q319_1: |0>┤ Initialize(0.7194,0.69459) ├─X─\n",
            "           ├────────────────────────────┤ │ \n",
            "q319_2: |0>┤ Initialize(0.21734,0.9761) ├─X─\n",
            "           └────────────────────────────┘   \n",
            "  c46_0: 0 ═════════════════════════════════\n",
            "                                            \n",
            "  c46_1: 0 ═════════════════════════════════\n",
            "                                            \n",
            "  c46_2: 0 ═════════════════════════════════\n",
            "                                            \n"
          ],
          "name": "stdout"
        }
      ]
    },
    {
      "cell_type": "code",
      "metadata": {
        "id": "6PszzRi-IPAf",
        "outputId": "e6dce98c-7e83-4d57-c55c-7d3034604ca8",
        "colab": {
          "base_uri": "https://localhost:8080/",
          "height": 301
        }
      },
      "source": [
        "#CSwap = np.array([[1,0,0,0,0,0,0,0],[0,1,0,0,0,0,0,0],[0,0,1,0,0,0,0,0],[0,0,0,1,0,0,0,0],[0,0,0,0,1,0,0,0],[0,0,0,0,0,0,1,0],[0,0,0,0,0,1,0,0],[0,0,0,0,0,0,0,1]])\n",
        "#H = np.array([[1/math.sqrt(2),1/math.sqrt(2)],[1/math.sqrt(2),-1/math.sqrt(2)]])\n",
        "\n",
        "#I = np.array([[1,0],[0,1]])\n",
        "\n",
        "#H1 = np.kron(H,np.kron(I,I))\n",
        "\n",
        "#t1 = CSwap @ H1\n",
        "#t1 = np.matmul(CSwap, H1)\n",
        "\n",
        "#print (np.round(t1,3))\n",
        "\n",
        "\n",
        "unitary = qk.execute(circuit, unisim).result()\n",
        "\n",
        "print(unitary.get_unitary(circuit))"
      ],
      "execution_count": null,
      "outputs": [
        {
          "output_type": "stream",
          "text": [
            "[[ 0.11055895+0.j  0.11055895+0.j -0.10674625+0.j -0.10674625+0.j\n",
            "  -0.4965347 +0.j -0.4965347 +0.j  0.47941135+0.j  0.47941135+0.j]\n",
            " [ 0.11055895+0.j -0.11055895+0.j -0.10674625+0.j  0.10674625+0.j\n",
            "  -0.4965347 +0.j  0.4965347 +0.j  0.47941135+0.j -0.47941135+0.j]\n",
            " [ 0.10674625+0.j  0.10674625+0.j  0.11055895+0.j  0.11055895+0.j\n",
            "  -0.47941135+0.j -0.47941135+0.j -0.4965347 +0.j -0.4965347 +0.j]\n",
            " [ 0.4965347 +0.j -0.4965347 +0.j -0.47941135+0.j  0.47941135+0.j\n",
            "   0.11055895+0.j -0.11055895+0.j -0.10674625+0.j  0.10674625+0.j]\n",
            " [ 0.4965347 +0.j  0.4965347 +0.j -0.47941135+0.j -0.47941135+0.j\n",
            "   0.11055895+0.j  0.11055895+0.j -0.10674625+0.j -0.10674625+0.j]\n",
            " [ 0.10674625+0.j -0.10674625+0.j  0.11055895+0.j -0.11055895+0.j\n",
            "  -0.47941135+0.j  0.47941135+0.j -0.4965347 +0.j  0.4965347 +0.j]\n",
            " [ 0.47941135+0.j  0.47941135+0.j  0.4965347 +0.j  0.4965347 +0.j\n",
            "   0.10674625+0.j  0.10674625+0.j  0.11055895+0.j  0.11055895+0.j]\n",
            " [ 0.47941135+0.j -0.47941135+0.j  0.4965347 +0.j -0.4965347 +0.j\n",
            "   0.10674625+0.j -0.10674625+0.j  0.11055895+0.j -0.11055895+0.j]]\n"
          ],
          "name": "stdout"
        }
      ]
    },
    {
      "cell_type": "code",
      "metadata": {
        "id": "_tldtCPoL5-E",
        "outputId": "7af82679-097e-48f5-9795-01f0b2bf6fd7",
        "colab": {
          "base_uri": "https://localhost:8080/",
          "height": 52
        }
      },
      "source": [
        "stateresult = qk.execute(circuit,statesim).result()\n",
        "print(stateresult.get_statevector(circuit))\n"
      ],
      "execution_count": null,
      "outputs": [
        {
          "output_type": "stream",
          "text": [
            "[0.11055895+0.j 0.11055895+0.j 0.10674625+0.j 0.4965347 +0.j\n",
            " 0.4965347 +0.j 0.10674625+0.j 0.47941135+0.j 0.47941135+0.j]\n"
          ],
          "name": "stdout"
        }
      ]
    },
    {
      "cell_type": "code",
      "metadata": {
        "id": "f52qlDm142e0",
        "outputId": "32686683-5760-4a05-88c4-4135ac30f53e",
        "colab": {
          "base_uri": "https://localhost:8080/",
          "height": 248
        }
      },
      "source": [
        "circuit.h(q[0])\n",
        "\n",
        "print(circuit)"
      ],
      "execution_count": null,
      "outputs": [
        {
          "output_type": "stream",
          "text": [
            "                       ┌───┐                ┌───┐\n",
            "q319_0: |0>────────────┤ H ├──────────────■─┤ H ├\n",
            "           ┌───────────┴───┴────────────┐ │ └───┘\n",
            "q319_1: |0>┤ Initialize(0.7194,0.69459) ├─X──────\n",
            "           ├────────────────────────────┤ │      \n",
            "q319_2: |0>┤ Initialize(0.21734,0.9761) ├─X──────\n",
            "           └────────────────────────────┘        \n",
            "  c46_0: 0 ══════════════════════════════════════\n",
            "                                                 \n",
            "  c46_1: 0 ══════════════════════════════════════\n",
            "                                                 \n",
            "  c46_2: 0 ══════════════════════════════════════\n",
            "                                                 \n"
          ],
          "name": "stdout"
        }
      ]
    },
    {
      "cell_type": "code",
      "metadata": {
        "id": "iHMcms5YIjb_",
        "outputId": "a03b8223-f6b0-4b1a-a03e-dc2cffde939f",
        "colab": {
          "base_uri": "https://localhost:8080/",
          "height": 301
        }
      },
      "source": [
        "#print(t1)\n",
        "#t2 = H1 @t1\n",
        "\n",
        "#t2 = np.matmul(H1,t1) \n",
        "#print(np.round(t2,3))\n",
        "\n",
        "unitary = qk.execute(circuit, unisim).result()\n",
        "\n",
        "print(unitary.get_unitary(circuit))"
      ],
      "execution_count": null,
      "outputs": [
        {
          "output_type": "stream",
          "text": [
            "[[ 0.15635397+0.j  0.        +0.j -0.15096199+0.j  0.        +0.j\n",
            "  -0.70220611+0.j  0.        +0.j  0.67799004+0.j  0.        +0.j]\n",
            " [ 0.        +0.j  0.15635397+0.j  0.        +0.j -0.15096199+0.j\n",
            "   0.        +0.j -0.70220611+0.j  0.        +0.j  0.67799004+0.j]\n",
            " [ 0.42658405+0.j -0.27562206+0.j -0.26081803+0.j  0.417172  +0.j\n",
            "  -0.26081803+0.j -0.417172  +0.j -0.42658405+0.j -0.27562206+0.j]\n",
            " [-0.27562206+0.j  0.42658405+0.j  0.417172  +0.j -0.26081803+0.j\n",
            "  -0.417172  +0.j -0.26081803+0.j -0.27562206+0.j -0.42658405+0.j]\n",
            " [ 0.42658405+0.j  0.27562206+0.j -0.26081803+0.j -0.417172  +0.j\n",
            "  -0.26081803+0.j  0.417172  +0.j -0.42658405+0.j  0.27562206+0.j]\n",
            " [ 0.27562206+0.j  0.42658405+0.j -0.417172  +0.j -0.26081803+0.j\n",
            "   0.417172  +0.j -0.26081803+0.j  0.27562206+0.j -0.42658405+0.j]\n",
            " [ 0.67799004+0.j  0.        +0.j  0.70220611+0.j  0.        +0.j\n",
            "   0.15096199+0.j  0.        +0.j  0.15635397+0.j  0.        +0.j]\n",
            " [ 0.        +0.j  0.67799004+0.j  0.        +0.j  0.70220611+0.j\n",
            "   0.        +0.j  0.15096199+0.j  0.        +0.j  0.15635397+0.j]]\n"
          ],
          "name": "stdout"
        }
      ]
    },
    {
      "cell_type": "code",
      "metadata": {
        "id": "pKQM52FgMLXY",
        "outputId": "797356d4-c127-4386-e9d1-27bfe413c1dd",
        "colab": {
          "base_uri": "https://localhost:8080/",
          "height": 52
        }
      },
      "source": [
        "stateresult = qk.execute(circuit,statesim).result()\n",
        "\n",
        "print(stateresult.get_statevector(circuit))"
      ],
      "execution_count": null,
      "outputs": [
        {
          "output_type": "stream",
          "text": [
            "[ 0.15635397+0.j  0.        +0.j  0.42658405+0.j -0.27562206+0.j\n",
            "  0.42658405+0.j  0.27562206+0.j  0.67799004+0.j  0.        +0.j]\n"
          ],
          "name": "stdout"
        }
      ]
    },
    {
      "cell_type": "code",
      "metadata": {
        "id": "Qa5pveSf48HZ",
        "outputId": "14a35b81-076a-47d1-c69f-59ca530565ce",
        "colab": {
          "base_uri": "https://localhost:8080/",
          "height": 248
        }
      },
      "source": [
        "circuit.x(q[0])\n",
        "\n",
        "print(circuit)"
      ],
      "execution_count": null,
      "outputs": [
        {
          "output_type": "stream",
          "text": [
            "                       ┌───┐                ┌───┐┌───┐\n",
            "q319_0: |0>────────────┤ H ├──────────────■─┤ H ├┤ X ├\n",
            "           ┌───────────┴───┴────────────┐ │ └───┘└───┘\n",
            "q319_1: |0>┤ Initialize(0.7194,0.69459) ├─X───────────\n",
            "           ├────────────────────────────┤ │           \n",
            "q319_2: |0>┤ Initialize(0.21734,0.9761) ├─X───────────\n",
            "           └────────────────────────────┘             \n",
            "  c46_0: 0 ═══════════════════════════════════════════\n",
            "                                                      \n",
            "  c46_1: 0 ═══════════════════════════════════════════\n",
            "                                                      \n",
            "  c46_2: 0 ═══════════════════════════════════════════\n",
            "                                                      \n"
          ],
          "name": "stdout"
        }
      ]
    },
    {
      "cell_type": "code",
      "metadata": {
        "id": "qJppttpJIrCX",
        "outputId": "30472d5d-0c3e-4ff4-9eb6-41bdc32da2cd",
        "colab": {
          "base_uri": "https://localhost:8080/",
          "height": 301
        }
      },
      "source": [
        "#X = np.array([[0,1],[1,0]])\n",
        "#X1 = np.kron(X, np.kron(I,I))\n",
        "\n",
        "#t3 = X1 @ t2\n",
        "#print(np.round(t3,3))\n",
        "unitary = qk.execute(circuit, unisim).result()\n",
        "\n",
        "print(unitary.get_unitary(circuit))\n",
        "\n"
      ],
      "execution_count": null,
      "outputs": [
        {
          "output_type": "stream",
          "text": [
            "[[ 0.        +0.j  0.15635397+0.j  0.        +0.j -0.15096199+0.j\n",
            "   0.        +0.j -0.70220611+0.j  0.        +0.j  0.67799004+0.j]\n",
            " [ 0.15635397+0.j  0.        +0.j -0.15096199+0.j  0.        +0.j\n",
            "  -0.70220611+0.j  0.        +0.j  0.67799004+0.j  0.        +0.j]\n",
            " [-0.27562206+0.j  0.42658405+0.j  0.417172  +0.j -0.26081803+0.j\n",
            "  -0.417172  +0.j -0.26081803+0.j -0.27562206+0.j -0.42658405+0.j]\n",
            " [ 0.42658405+0.j -0.27562206+0.j -0.26081803+0.j  0.417172  +0.j\n",
            "  -0.26081803+0.j -0.417172  +0.j -0.42658405+0.j -0.27562206+0.j]\n",
            " [ 0.27562206+0.j  0.42658405+0.j -0.417172  +0.j -0.26081803+0.j\n",
            "   0.417172  +0.j -0.26081803+0.j  0.27562206+0.j -0.42658405+0.j]\n",
            " [ 0.42658405+0.j  0.27562206+0.j -0.26081803+0.j -0.417172  +0.j\n",
            "  -0.26081803+0.j  0.417172  +0.j -0.42658405+0.j  0.27562206+0.j]\n",
            " [ 0.        +0.j  0.67799004+0.j  0.        +0.j  0.70220611+0.j\n",
            "   0.        +0.j  0.15096199+0.j  0.        +0.j  0.15635397+0.j]\n",
            " [ 0.67799004+0.j  0.        +0.j  0.70220611+0.j  0.        +0.j\n",
            "   0.15096199+0.j  0.        +0.j  0.15635397+0.j  0.        +0.j]]\n"
          ],
          "name": "stdout"
        }
      ]
    },
    {
      "cell_type": "code",
      "metadata": {
        "id": "PlKyhsZzQ89z",
        "outputId": "f0ae5e76-3ce8-408c-df7e-719f3cc303c8",
        "colab": {
          "base_uri": "https://localhost:8080/",
          "height": 52
        }
      },
      "source": [
        "stateresult = qk.execute(circuit,statesim).result()\n",
        "\n",
        "print(stateresult.get_statevector(circuit))"
      ],
      "execution_count": null,
      "outputs": [
        {
          "output_type": "stream",
          "text": [
            "[ 0.        +0.j  0.15635397+0.j -0.27562206+0.j  0.42658405+0.j\n",
            "  0.27562206+0.j  0.42658405+0.j  0.        +0.j  0.67799004+0.j]\n"
          ],
          "name": "stdout"
        }
      ]
    },
    {
      "cell_type": "code",
      "metadata": {
        "id": "HJPnH3Yp4-Jp",
        "outputId": "e6cfe749-5d5d-409f-a25c-fa9cbd96fd4a",
        "colab": {
          "base_uri": "https://localhost:8080/",
          "height": 248
        }
      },
      "source": [
        "circuit.measure(q[0],c[0])\n",
        "\n",
        "print(circuit)"
      ],
      "execution_count": null,
      "outputs": [
        {
          "output_type": "stream",
          "text": [
            "                       ┌───┐                ┌───┐┌───┐┌─┐\n",
            "q319_0: |0>────────────┤ H ├──────────────■─┤ H ├┤ X ├┤M├\n",
            "           ┌───────────┴───┴────────────┐ │ └───┘└───┘└╥┘\n",
            "q319_1: |0>┤ Initialize(0.7194,0.69459) ├─X────────────╫─\n",
            "           ├────────────────────────────┤ │            ║ \n",
            "q319_2: |0>┤ Initialize(0.21734,0.9761) ├─X────────────╫─\n",
            "           └────────────────────────────┘              ║ \n",
            "  c46_0: 0 ════════════════════════════════════════════╩═\n",
            "                                                         \n",
            "  c46_1: 0 ══════════════════════════════════════════════\n",
            "                                                         \n",
            "  c46_2: 0 ══════════════════════════════════════════════\n",
            "                                                         \n"
          ],
          "name": "stdout"
        }
      ]
    },
    {
      "cell_type": "code",
      "metadata": {
        "id": "zb5i1Pg65FJX",
        "outputId": "665cc590-dd3d-45dd-df18-9f67b9655407",
        "colab": {
          "base_uri": "https://localhost:8080/",
          "height": 70
        }
      },
      "source": [
        "\n",
        "\n",
        "\n",
        "job = qk.execute(circuit, simulator)\n",
        "result = job.result()\n",
        "\n",
        "stateresult = qk.execute(circuit,statesim).result()\n",
        "\n",
        "# Getting the aggregated binary outcomes of the circuit.\n",
        "counts = result.get_counts(circuit)\n",
        "print ('probability=',counts)\n",
        "#statevector = result.get_statevector(circuit)\n",
        "\n",
        "#print(statevector)\n",
        "\n",
        "\n",
        "state = stateresult.get_statevector(circuit)\n",
        "print(state)\n"
      ],
      "execution_count": null,
      "outputs": [
        {
          "output_type": "stream",
          "text": [
            "probability= {'000': 148, '001': 876}\n",
            "[ 0.        +0.j  0.        +0.j -0.70710678+0.j  0.        +0.j\n",
            "  0.70710678+0.j  0.        +0.j  0.        +0.j  0.        +0.j]\n"
          ],
          "name": "stdout"
        }
      ]
    }
  ]
}